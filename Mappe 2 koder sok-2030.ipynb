{
 "cells": [
  {
   "cell_type": "code",
   "execution_count": 336,
   "metadata": {},
   "outputs": [],
   "source": [
    "'import sympy as sp\n",
    "from sympy import *\n",
    "import numpy as np\n",
    "from matplotlib import pyplot as plt'"
   ]
  },
  {
   "attachments": {},
   "cell_type": "markdown",
   "metadata": {},
   "source": [
    "#### Oppgave a) "
   ]
  },
  {
   "attachments": {},
   "cell_type": "markdown",
   "metadata": {},
   "source": [
    "#### Etablering av ny bedrift"
   ]
  },
  {
   "cell_type": "code",
   "execution_count": 337,
   "metadata": {},
   "outputs": [],
   "source": [
    "def demand_1(q1):\n",
    "    return (150-q1-q2)"
   ]
  },
  {
   "cell_type": "code",
   "execution_count": 338,
   "metadata": {},
   "outputs": [],
   "source": [
    "def demand_2(q2):\n",
    "    return (150-q1-q2)"
   ]
  },
  {
   "cell_type": "code",
   "execution_count": 339,
   "metadata": {},
   "outputs": [],
   "source": [
    "def marginalrevenue_1(q1):\n",
    "    return (150-q2-2*q1)"
   ]
  },
  {
   "cell_type": "code",
   "execution_count": 340,
   "metadata": {},
   "outputs": [],
   "source": [
    "def marginalrevenue_2(q2):\n",
    "    return (150-q1-2*q2)"
   ]
  },
  {
   "attachments": {},
   "cell_type": "markdown",
   "metadata": {},
   "source": [
    "#### Strategi for tilpasning\n",
    "\n",
    "Bedrift 1 vil tilpasse seg som Stackelberg leder på trinn 2, og velge kapasitet på trinn 1 som er lik det optimale kvantum i likevekt (𝑞1=𝑘)"
   ]
  },
  {
   "cell_type": "code",
   "execution_count": 341,
   "metadata": {},
   "outputs": [
    {
     "data": {
      "text/latex": [
       "$\\displaystyle - q_{1} - 2 q_{2} + 150 = 50$"
      ],
      "text/plain": [
       "Eq(-q1 - 2*q2 + 150, 50)"
      ]
     },
     "execution_count": 341,
     "metadata": {},
     "output_type": "execute_result"
    }
   ],
   "source": [
    "# Otimal tilpasning for bedrift 2 der MR = MC (=50)\n",
    "q2=sp.symbols('q2', real=True, positive=True)\n",
    "q1=sp.symbols('q1', real=True, positive=True)\n",
    "equ=sp.Eq(marginalrevenue_2(q2),50)\n",
    "equ"
   ]
  },
  {
   "cell_type": "code",
   "execution_count": 342,
   "metadata": {},
   "outputs": [
    {
     "data": {
      "text/latex": [
       "$\\displaystyle 50 - \\frac{q_{1}}{2}$"
      ],
      "text/plain": [
       "50 - q1/2"
      ]
     },
     "execution_count": 342,
     "metadata": {},
     "output_type": "execute_result"
    }
   ],
   "source": [
    "#reaksjonsfunksjon til nykommer\n",
    "q2_equ=sp.solve(equ,q2)[0]\n",
    "q2_equ"
   ]
  },
  {
   "cell_type": "code",
   "execution_count": 343,
   "metadata": {},
   "outputs": [
    {
     "data": {
      "text/latex": [
       "$\\displaystyle 100 - \\frac{q_{1}}{2}$"
      ],
      "text/plain": [
       "100 - q1/2"
      ]
     },
     "execution_count": 343,
     "metadata": {},
     "output_type": "execute_result"
    }
   ],
   "source": [
    "d_demand_1=demand_1(q1).subs({q2:q2_equ})\n",
    "d_demand_1"
   ]
  },
  {
   "cell_type": "code",
   "execution_count": 344,
   "metadata": {},
   "outputs": [],
   "source": [
    "def marginalrevenue1_RF2(q1):\n",
    "    return (100-q1)"
   ]
  },
  {
   "cell_type": "code",
   "execution_count": 345,
   "metadata": {},
   "outputs": [
    {
     "data": {
      "text/latex": [
       "$\\displaystyle 100 - q_{1} = 50$"
      ],
      "text/plain": [
       "Eq(100 - q1, 50)"
      ]
     },
     "execution_count": 345,
     "metadata": {},
     "output_type": "execute_result"
    }
   ],
   "source": [
    "# Optimal tilpasning for bedrift 1 der MR = MC (=50), \n",
    "q2=sp.symbols('q2', real=True, positive=True)\n",
    "q1=sp.symbols('q1', real=True, positive=True)\n",
    "equ=sp.Eq(marginalrevenue1_RF2(q1),50)\n",
    "equ"
   ]
  },
  {
   "cell_type": "code",
   "execution_count": 346,
   "metadata": {},
   "outputs": [
    {
     "data": {
      "text/latex": [
       "$\\displaystyle 50$"
      ],
      "text/plain": [
       "50"
      ]
     },
     "execution_count": 346,
     "metadata": {},
     "output_type": "execute_result"
    }
   ],
   "source": [
    "# optimalt kvantum for den etablerte bedriften, og da også optimalt nivå på investering av kapasitet (k)\n",
    "q1RF2_equ=sp.solve(equ,q1)[0]\n",
    "q1RF2_equ"
   ]
  },
  {
   "cell_type": "code",
   "execution_count": 347,
   "metadata": {},
   "outputs": [
    {
     "data": {
      "text/latex": [
       "$\\displaystyle 25$"
      ],
      "text/plain": [
       "25"
      ]
     },
     "execution_count": 347,
     "metadata": {},
     "output_type": "execute_result"
    }
   ],
   "source": [
    "#Optimalt kvantum for bedrift 2\n",
    "q2_equ2=q2_equ.subs({q1:q1RF2_equ})\n",
    "q2_equ2"
   ]
  },
  {
   "cell_type": "code",
   "execution_count": 348,
   "metadata": {},
   "outputs": [],
   "source": [
    "def profit_1(q1,q2):\n",
    "    return ((150-q1-q2)-50)*q1-500"
   ]
  },
  {
   "cell_type": "code",
   "execution_count": 349,
   "metadata": {},
   "outputs": [
    {
     "data": {
      "text/latex": [
       "$\\displaystyle 750$"
      ],
      "text/plain": [
       "750"
      ]
     },
     "execution_count": 349,
     "metadata": {},
     "output_type": "execute_result"
    }
   ],
   "source": [
    "# Profitt for etablert bedrift ved tilpasningsstrategi\n",
    "profit_1(q1,q2).subs({q1:q1RF2_equ,q2:q2_equ2})"
   ]
  },
  {
   "cell_type": "code",
   "execution_count": 350,
   "metadata": {},
   "outputs": [],
   "source": [
    "def profit_2(q1,q2):\n",
    "    return ((150-q1-q2)-50)*q2-500"
   ]
  },
  {
   "cell_type": "code",
   "execution_count": 351,
   "metadata": {},
   "outputs": [
    {
     "data": {
      "text/latex": [
       "$\\displaystyle 125$"
      ],
      "text/plain": [
       "125"
      ]
     },
     "execution_count": 351,
     "metadata": {},
     "output_type": "execute_result"
    }
   ],
   "source": [
    "# Profitt for nykommer bedrift ved tilpasningsstrategi\n",
    "profit_2(q1,q2).subs({q1:q1RF2_equ,q2:q2_equ2})"
   ]
  },
  {
   "attachments": {},
   "cell_type": "markdown",
   "metadata": {},
   "source": [
    "#### Strategi for avskrekking\n",
    "\n",
    "For å avskrekke B2 fra å etablere seg må B1 på en troverdig måte binde seg til en kapasitet (på trinn1 ), slik at B2 ikke tjener noe ved å etablere seg i dette markedet. Altså, hvor stor må 𝒒𝟏 være for at 𝝅_𝟐 ≤ 0?"
   ]
  },
  {
   "cell_type": "code",
   "execution_count": 303,
   "metadata": {},
   "outputs": [
    {
     "data": {
      "text/latex": [
       "$\\displaystyle \\left(50 - \\frac{q_{1}}{2}\\right)^{2} - 500$"
      ],
      "text/plain": [
       "(50 - q1/2)**2 - 500"
      ]
     },
     "execution_count": 303,
     "metadata": {},
     "output_type": "execute_result"
    }
   ],
   "source": [
    "# For å finne nivå på 𝑞1 som oppfyller likheten 𝜋2 = 0 settes R2 inn i uttrykket\n",
    "\n",
    "profit_2(q1,q2).subs({q2:q2_equ})"
   ]
  },
  {
   "cell_type": "code",
   "execution_count": 304,
   "metadata": {},
   "outputs": [
    {
     "data": {
      "text/latex": [
       "$\\displaystyle 55.28$"
      ],
      "text/plain": [
       "55.28"
      ]
     },
     "execution_count": 304,
     "metadata": {},
     "output_type": "execute_result"
    }
   ],
   "source": [
    "# Optimalt nivå på kapasitet for å avskrekke nykommer fra å etablere seg er lik:\n",
    "q1_equ_k=sp.solve(profit_2(q1,q2).subs({q2:q2_equ}))[0]\n",
    "q1_equ_k\n",
    "round(q1_equ_k,2)"
   ]
  },
  {
   "cell_type": "code",
   "execution_count": 305,
   "metadata": {},
   "outputs": [],
   "source": [
    "def profit_1(q1):\n",
    "    return ((150-q1)-50)*q1-500"
   ]
  },
  {
   "cell_type": "code",
   "execution_count": 306,
   "metadata": {},
   "outputs": [
    {
     "data": {
      "text/latex": [
       "$\\displaystyle 1972$"
      ],
      "text/plain": [
       "1972"
      ]
     },
     "execution_count": 306,
     "metadata": {},
     "output_type": "execute_result"
    }
   ],
   "source": [
    "# Profitt for etablert bedrift ved strategi for avskrekking:\n",
    "round(profit_1(q1).subs({q1:q1_equ_k}))"
   ]
  },
  {
   "attachments": {},
   "cell_type": "markdown",
   "metadata": {},
   "source": [
    "#### Oppgave b\n",
    "\n",
    "i. Hva vil prisen per liter øl til sluttbruker være nå når Svalbard Bryggeri AS er eneste produsent i Longerbyen, og hvor mye øl vil Coop selge?"
   ]
  },
  {
   "cell_type": "code",
   "execution_count": 428,
   "metadata": {},
   "outputs": [],
   "source": [
    "A = 60\n",
    "B = 0.25\n",
    "c = 40"
   ]
  },
  {
   "cell_type": "code",
   "execution_count": 429,
   "metadata": {},
   "outputs": [
    {
     "name": "stdout",
     "output_type": "stream",
     "text": [
      "20.0\n"
     ]
    }
   ],
   "source": [
    "# Kvantum\n",
    "print((A - (A/2+c/2))/(2*B))"
   ]
  },
  {
   "cell_type": "code",
   "execution_count": 430,
   "metadata": {},
   "outputs": [
    {
     "name": "stdout",
     "output_type": "stream",
     "text": [
      "55.0\n"
     ]
    }
   ],
   "source": [
    "# Optimal pris\n",
    "print((A + (A/2+c/2))/2)"
   ]
  },
  {
   "cell_type": "code",
   "execution_count": 431,
   "metadata": {},
   "outputs": [
    {
     "name": "stdout",
     "output_type": "stream",
     "text": [
      "55.0\n"
     ]
    }
   ],
   "source": [
    "print((3*60+40)/4)"
   ]
  },
  {
   "cell_type": "code",
   "execution_count": 432,
   "metadata": {},
   "outputs": [
    {
     "data": {
      "text/plain": [
       "1.25"
      ]
     },
     "execution_count": 432,
     "metadata": {},
     "output_type": "execute_result"
    }
   ],
   "source": [
    "QD = (A - c) / 4*B\n",
    "QD"
   ]
  },
  {
   "cell_type": "code",
   "execution_count": 433,
   "metadata": {},
   "outputs": [
    {
     "data": {
      "text/plain": [
       "50.0"
      ]
     },
     "execution_count": 433,
     "metadata": {},
     "output_type": "execute_result"
    }
   ],
   "source": [
    "rU = (A + c) / 2\n",
    "rU "
   ]
  },
  {
   "attachments": {},
   "cell_type": "markdown",
   "metadata": {},
   "source": [
    "#### Oppgave b) ii. \n",
    "\n",
    "Hva blir prisen per liter øl til sluttbruker hvis Nøgne Ø Det Kompromissløse Bryggeri AS kommer inn i markedet, og hvor mye øl vil Coop selge når de kan kjøpe øl fra to produsenter?"
   ]
  },
  {
   "cell_type": "code",
   "execution_count": 400,
   "metadata": {},
   "outputs": [],
   "source": [
    "# Definerer etterspørselsfunksjonen og marginalinntektene til hver produsent\n",
    "def demand(q1, q2):\n",
    "    return 60 - 0.25 * (q1 + q2)\n",
    "\n",
    "def marginalrevenue_1(q1, q2):\n",
    "    return 60 - 0.5 * q1 - 0.25 * q2\n",
    "\n",
    "def marginalrevenue_2(q1, q2):\n",
    "    return 60 - 0.5 * q2 - 0.25 * q1"
   ]
  },
  {
   "cell_type": "code",
   "execution_count": 401,
   "metadata": {},
   "outputs": [
    {
     "data": {
      "text/latex": [
       "$\\displaystyle - 0.25 q_{1} - 0.5 q_{2} + 60 = 20$"
      ],
      "text/plain": [
       "Eq(-0.25*q1 - 0.5*q2 + 60, 20)"
      ]
     },
     "execution_count": 401,
     "metadata": {},
     "output_type": "execute_result"
    }
   ],
   "source": [
    "# MR = MC\n",
    "q2=sp.symbols('q2', real=True, positive=True)\n",
    "q1=sp.symbols('q1', real=True, positive=True)\n",
    "equ=sp.Eq(marginalrevenue_2(q1,q2),20)\n",
    "equ"
   ]
  },
  {
   "cell_type": "code",
   "execution_count": 411,
   "metadata": {},
   "outputs": [
    {
     "data": {
      "text/latex": [
       "$\\displaystyle 160.0 - 2.0 q_{1}$"
      ],
      "text/plain": [
       "160.0 - 2.0*q1"
      ]
     },
     "execution_count": 411,
     "metadata": {},
     "output_type": "execute_result"
    }
   ],
   "source": [
    "#reaksjonsfunksjon til bedrift 2\n",
    "q2_equ=sp.solve(equ,q2)[0]\n",
    "q2_equ"
   ]
  },
  {
   "cell_type": "code",
   "execution_count": 412,
   "metadata": {},
   "outputs": [
    {
     "data": {
      "text/latex": [
       "$\\displaystyle - 0.5 q_{1} - 0.25 q_{2} + 60 = 20$"
      ],
      "text/plain": [
       "Eq(-0.5*q1 - 0.25*q2 + 60, 20)"
      ]
     },
     "execution_count": 412,
     "metadata": {},
     "output_type": "execute_result"
    }
   ],
   "source": [
    "#MR = MC\n",
    "q1=sp.symbols('q1', real=True, positive=True)\n",
    "equ=sp.Eq(marginalrevenue_1(q1, q2),20)\n",
    "equ"
   ]
  },
  {
   "cell_type": "code",
   "execution_count": 413,
   "metadata": {},
   "outputs": [
    {
     "data": {
      "text/latex": [
       "$\\displaystyle 80.0 - 0.5 q_{2}$"
      ],
      "text/plain": [
       "80.0 - 0.5*q2"
      ]
     },
     "execution_count": 413,
     "metadata": {},
     "output_type": "execute_result"
    }
   ],
   "source": [
    "#reaksjonsfunksjon til bedrift 1\n",
    "q1_equ=sp.solve(equ,q1)[0]\n",
    "q1_equ"
   ]
  },
  {
   "cell_type": "code",
   "execution_count": 414,
   "metadata": {},
   "outputs": [
    {
     "data": {
      "text/latex": [
       "$\\displaystyle 80.0 - 0.5 q_{1}$"
      ],
      "text/plain": [
       "80.0 - 0.5*q1"
      ]
     },
     "execution_count": 414,
     "metadata": {},
     "output_type": "execute_result"
    }
   ],
   "source": [
    "# finner uttrykk for q1 og q2\n",
    "q1_eq = sp.solve(marginalrevenue_1(q1, q2) - 20, q1)[0]\n",
    "q2_eq = sp.solve(marginalrevenue_2(q1, q2) - 20, q2)[0]\n",
    "q1_eq\n",
    "q2_eq"
   ]
  },
  {
   "cell_type": "code",
   "execution_count": 415,
   "metadata": {},
   "outputs": [
    {
     "data": {
      "text/latex": [
       "$\\displaystyle 0.25 q_{2} + 40.0$"
      ],
      "text/plain": [
       "0.25*q2 + 40.0"
      ]
     },
     "execution_count": 415,
     "metadata": {},
     "output_type": "execute_result"
    }
   ],
   "source": [
    "# setter uttrykk for q1 inn i q2\n",
    "q2_unresv_eq = q2_eq.subs(q1, q1_eq)\n",
    "q2_unresv_eq"
   ]
  },
  {
   "cell_type": "code",
   "execution_count": 416,
   "metadata": {},
   "outputs": [
    {
     "data": {
      "text/latex": [
       "$\\displaystyle 0.25 q_{1} + 40.0$"
      ],
      "text/plain": [
       "0.25*q1 + 40.0"
      ]
     },
     "execution_count": 416,
     "metadata": {},
     "output_type": "execute_result"
    }
   ],
   "source": [
    "q1_unresv_eq = q1_eq.subs(q2, q2_eq)\n",
    "q1_unresv_eq\n"
   ]
  },
  {
   "cell_type": "code",
   "execution_count": 408,
   "metadata": {},
   "outputs": [
    {
     "data": {
      "text/latex": [
       "$\\displaystyle 53.3333333333333$"
      ],
      "text/plain": [
       "53.3333333333333"
      ]
     },
     "execution_count": 408,
     "metadata": {},
     "output_type": "execute_result"
    }
   ],
   "source": [
    "# Løser q2 og finner optimalt kvantum for bedrift 2\n",
    "q2_equ=sp.solve(sp.Eq(q2_unresv_eq, q2), q2)[0]\n",
    "q2_equ"
   ]
  },
  {
   "cell_type": "code",
   "execution_count": 409,
   "metadata": {},
   "outputs": [
    {
     "data": {
      "text/latex": [
       "$\\displaystyle 53.3333333333333$"
      ],
      "text/plain": [
       "53.3333333333333"
      ]
     },
     "execution_count": 409,
     "metadata": {},
     "output_type": "execute_result"
    }
   ],
   "source": [
    "# Løser q1 og finner optimalt kvantum bedrift 1\n",
    "q1_equ=sp.solve(sp.Eq(q1_unresv_eq, q1), q1)[0]\n",
    "q1_equ"
   ]
  },
  {
   "cell_type": "code",
   "execution_count": 391,
   "metadata": {},
   "outputs": [
    {
     "data": {
      "text/latex": [
       "$\\displaystyle 33.33$"
      ],
      "text/plain": [
       "33.33"
      ]
     },
     "execution_count": 391,
     "metadata": {},
     "output_type": "execute_result"
    }
   ],
   "source": [
    "round(demand(q1,q2).subs({q1:q1_equ,q2:q2_equ}),2)\n"
   ]
  },
  {
   "cell_type": "code",
   "execution_count": 392,
   "metadata": {},
   "outputs": [
    {
     "name": "stdout",
     "output_type": "stream",
     "text": [
      "Totalmengde øl Coop vil selge: 107 tusen liter\n"
     ]
    }
   ],
   "source": [
    "total_quantity = q1_equ + q2_equ\n",
    "print(f'Totalmengde øl Coop vil selge: {round(total_quantity)} tusen liter')"
   ]
  },
  {
   "cell_type": "code",
   "execution_count": 128,
   "metadata": {},
   "outputs": [
    {
     "name": "stdout",
     "output_type": "stream",
     "text": [
      "Optimalt kvantum for produsent 1: 43\n",
      "Optimalt kvantum for produsent 2: 43\n",
      "Totalmengde øl Coop vil selge: 87\n"
     ]
    }
   ],
   "source": [
    "import sympy as sp\n",
    "\n",
    "# Definer symbolene for kvantumene\n",
    "q1, q2 = sp.symbols('q1 q2', real=True, positive=True)\n",
    "\n",
    "# Definer etterspørselsfunksjonen\n",
    "def P(q1, q2):\n",
    "    return 150-q1-q2\n",
    "\n",
    "# Definer kostnadsfunksjonen for hver produsent\n",
    "def C1(q1):\n",
    "    return 20 * q1\n",
    "\n",
    "def C2(q2):\n",
    "    return 20 * q2\n",
    "\n",
    "# Definer profittfunksjonen for hver produsent\n",
    "def pi1(q1, q2):\n",
    "    return P(q1, q2) * q1 - C1(q1)\n",
    "\n",
    "def pi2(q1, q2):\n",
    "    return P(q1, q2) * q2 - C2(q2)\n",
    "\n",
    "# Definer marginalinntekter og reaksjonsfunksjoner for hver produsent\n",
    "MR1 = sp.diff(P(q1, q2)*q1, q1)\n",
    "MR2 = sp.diff(P(q1, q2)*q2, q2)\n",
    "\n",
    "RF1 = sp.solve(sp.Eq(MR1, 20), q1)[0]\n",
    "RF2 = sp.solve(sp.Eq(MR2, 20), q2)[0]\n",
    "\n",
    "# Bruker sympy's solve funksjon til å løse systemet av ligninger for q1 og q2\n",
    "solution = sp.solve([RF1 - q1, RF2 - q2], (q1, q2))\n",
    "\n",
    "# Skriver ut den optimale kvantiteten for hver produsent\n",
    "print(f'Optimalt kvantum for produsent 1: {round(solution[q1])}')\n",
    "print(f'Optimalt kvantum for produsent 2: {round(solution[q2])}')\n",
    "\n",
    "# Beregner total mengde øl Coop vil selge\n",
    "total_quantity = solution[q1] + solution[q2]\n",
    "print(f'Totalmengde øl Coop vil selge: {round(total_quantity)}')\n"
   ]
  },
  {
   "cell_type": "code",
   "execution_count": null,
   "metadata": {},
   "outputs": [],
   "source": []
  }
 ],
 "metadata": {
  "kernelspec": {
   "display_name": "Python 3",
   "language": "python",
   "name": "python3"
  },
  "language_info": {
   "codemirror_mode": {
    "name": "ipython",
    "version": 3
   },
   "file_extension": ".py",
   "mimetype": "text/x-python",
   "name": "python",
   "nbconvert_exporter": "python",
   "pygments_lexer": "ipython3",
   "version": "3.10.2 (v3.10.2:a58ebcc701, Jan 13 2022, 14:50:16) [Clang 13.0.0 (clang-1300.0.29.30)]"
  },
  "orig_nbformat": 4,
  "vscode": {
   "interpreter": {
    "hash": "aee8b7b246df8f9039afb4144a1f6fd8d2ca17a180786b69acc140d282b71a49"
   }
  }
 },
 "nbformat": 4,
 "nbformat_minor": 2
}
